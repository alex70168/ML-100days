{
 "cells": [
  {
   "cell_type": "markdown",
   "metadata": {
    "collapsed": true
   },
   "source": [
    "# [作業目標]\n",
    "- 使用 Day 17 剛學到的方法, 對較完整的資料生成離散化特徵\n",
    "- 觀察上述離散化特徵, 對於目標值的預測有沒有幫助"
   ]
  },
  {
   "cell_type": "markdown",
   "metadata": {
    "collapsed": true
   },
   "source": [
    "# [作業重點]\n",
    "- 仿照 Day 17 的語法, 將年齡資料 ('DAYS_BIRTH' 除以 365) 離散化\n",
    "- 繪製上述的 \"離散化標籤\" 與目標值 ('TARGET') 的長條圖"
   ]
  },
  {
   "cell_type": "code",
   "execution_count": 2,
   "metadata": {},
   "outputs": [],
   "source": [
    "# 載入需要的套件\n",
    "import os\n",
    "import numpy as np\n",
    "import pandas as pd\n",
    "import matplotlib.pyplot as plt\n",
    "%matplotlib inline\n",
    "\n",
    "# 設定 data_path\n",
    "dir_data = './data/'"
   ]
  },
  {
   "cell_type": "markdown",
   "metadata": {},
   "source": [
    "### 之前做過的處理"
   ]
  },
  {
   "cell_type": "code",
   "execution_count": 3,
   "metadata": {},
   "outputs": [
    {
     "data": {
      "text/plain": [
       "(307511, 122)"
      ]
     },
     "execution_count": 3,
     "metadata": {},
     "output_type": "execute_result"
    }
   ],
   "source": [
    "# 讀取資料檔\n",
    "f_app_train = os.path.join(dir_data, 'application_train.csv')\n",
    "app_train = pd.read_csv(f_app_train)\n",
    "app_train.shape"
   ]
  },
  {
   "cell_type": "code",
   "execution_count": 4,
   "metadata": {},
   "outputs": [
    {
     "name": "stdout",
     "output_type": "stream",
     "text": [
      "(307511, 122)\n"
     ]
    },
    {
     "data": {
      "text/html": [
       "<div>\n",
       "<style scoped>\n",
       "    .dataframe tbody tr th:only-of-type {\n",
       "        vertical-align: middle;\n",
       "    }\n",
       "\n",
       "    .dataframe tbody tr th {\n",
       "        vertical-align: top;\n",
       "    }\n",
       "\n",
       "    .dataframe thead th {\n",
       "        text-align: right;\n",
       "    }\n",
       "</style>\n",
       "<table border=\"1\" class=\"dataframe\">\n",
       "  <thead>\n",
       "    <tr style=\"text-align: right;\">\n",
       "      <th></th>\n",
       "      <th>SK_ID_CURR</th>\n",
       "      <th>TARGET</th>\n",
       "      <th>NAME_CONTRACT_TYPE</th>\n",
       "      <th>CODE_GENDER</th>\n",
       "      <th>FLAG_OWN_CAR</th>\n",
       "      <th>FLAG_OWN_REALTY</th>\n",
       "      <th>CNT_CHILDREN</th>\n",
       "      <th>AMT_INCOME_TOTAL</th>\n",
       "      <th>AMT_CREDIT</th>\n",
       "      <th>AMT_ANNUITY</th>\n",
       "      <th>...</th>\n",
       "      <th>FLAG_DOCUMENT_18</th>\n",
       "      <th>FLAG_DOCUMENT_19</th>\n",
       "      <th>FLAG_DOCUMENT_20</th>\n",
       "      <th>FLAG_DOCUMENT_21</th>\n",
       "      <th>AMT_REQ_CREDIT_BUREAU_HOUR</th>\n",
       "      <th>AMT_REQ_CREDIT_BUREAU_DAY</th>\n",
       "      <th>AMT_REQ_CREDIT_BUREAU_WEEK</th>\n",
       "      <th>AMT_REQ_CREDIT_BUREAU_MON</th>\n",
       "      <th>AMT_REQ_CREDIT_BUREAU_QRT</th>\n",
       "      <th>AMT_REQ_CREDIT_BUREAU_YEAR</th>\n",
       "    </tr>\n",
       "  </thead>\n",
       "  <tbody>\n",
       "    <tr>\n",
       "      <th>0</th>\n",
       "      <td>100002</td>\n",
       "      <td>1</td>\n",
       "      <td>0</td>\n",
       "      <td>M</td>\n",
       "      <td>0</td>\n",
       "      <td>1</td>\n",
       "      <td>0</td>\n",
       "      <td>202500.0</td>\n",
       "      <td>406597.5</td>\n",
       "      <td>24700.5</td>\n",
       "      <td>...</td>\n",
       "      <td>0</td>\n",
       "      <td>0</td>\n",
       "      <td>0</td>\n",
       "      <td>0</td>\n",
       "      <td>0.0</td>\n",
       "      <td>0.0</td>\n",
       "      <td>0.0</td>\n",
       "      <td>0.0</td>\n",
       "      <td>0.0</td>\n",
       "      <td>1.0</td>\n",
       "    </tr>\n",
       "    <tr>\n",
       "      <th>1</th>\n",
       "      <td>100003</td>\n",
       "      <td>0</td>\n",
       "      <td>0</td>\n",
       "      <td>F</td>\n",
       "      <td>0</td>\n",
       "      <td>0</td>\n",
       "      <td>0</td>\n",
       "      <td>270000.0</td>\n",
       "      <td>1293502.5</td>\n",
       "      <td>35698.5</td>\n",
       "      <td>...</td>\n",
       "      <td>0</td>\n",
       "      <td>0</td>\n",
       "      <td>0</td>\n",
       "      <td>0</td>\n",
       "      <td>0.0</td>\n",
       "      <td>0.0</td>\n",
       "      <td>0.0</td>\n",
       "      <td>0.0</td>\n",
       "      <td>0.0</td>\n",
       "      <td>0.0</td>\n",
       "    </tr>\n",
       "    <tr>\n",
       "      <th>2</th>\n",
       "      <td>100004</td>\n",
       "      <td>0</td>\n",
       "      <td>1</td>\n",
       "      <td>M</td>\n",
       "      <td>1</td>\n",
       "      <td>1</td>\n",
       "      <td>0</td>\n",
       "      <td>67500.0</td>\n",
       "      <td>135000.0</td>\n",
       "      <td>6750.0</td>\n",
       "      <td>...</td>\n",
       "      <td>0</td>\n",
       "      <td>0</td>\n",
       "      <td>0</td>\n",
       "      <td>0</td>\n",
       "      <td>0.0</td>\n",
       "      <td>0.0</td>\n",
       "      <td>0.0</td>\n",
       "      <td>0.0</td>\n",
       "      <td>0.0</td>\n",
       "      <td>0.0</td>\n",
       "    </tr>\n",
       "    <tr>\n",
       "      <th>3</th>\n",
       "      <td>100006</td>\n",
       "      <td>0</td>\n",
       "      <td>0</td>\n",
       "      <td>F</td>\n",
       "      <td>0</td>\n",
       "      <td>1</td>\n",
       "      <td>0</td>\n",
       "      <td>135000.0</td>\n",
       "      <td>312682.5</td>\n",
       "      <td>29686.5</td>\n",
       "      <td>...</td>\n",
       "      <td>0</td>\n",
       "      <td>0</td>\n",
       "      <td>0</td>\n",
       "      <td>0</td>\n",
       "      <td>NaN</td>\n",
       "      <td>NaN</td>\n",
       "      <td>NaN</td>\n",
       "      <td>NaN</td>\n",
       "      <td>NaN</td>\n",
       "      <td>NaN</td>\n",
       "    </tr>\n",
       "    <tr>\n",
       "      <th>4</th>\n",
       "      <td>100007</td>\n",
       "      <td>0</td>\n",
       "      <td>0</td>\n",
       "      <td>M</td>\n",
       "      <td>0</td>\n",
       "      <td>1</td>\n",
       "      <td>0</td>\n",
       "      <td>121500.0</td>\n",
       "      <td>513000.0</td>\n",
       "      <td>21865.5</td>\n",
       "      <td>...</td>\n",
       "      <td>0</td>\n",
       "      <td>0</td>\n",
       "      <td>0</td>\n",
       "      <td>0</td>\n",
       "      <td>0.0</td>\n",
       "      <td>0.0</td>\n",
       "      <td>0.0</td>\n",
       "      <td>0.0</td>\n",
       "      <td>0.0</td>\n",
       "      <td>0.0</td>\n",
       "    </tr>\n",
       "  </tbody>\n",
       "</table>\n",
       "<p>5 rows × 122 columns</p>\n",
       "</div>"
      ],
      "text/plain": [
       "   SK_ID_CURR  TARGET  NAME_CONTRACT_TYPE CODE_GENDER  FLAG_OWN_CAR  \\\n",
       "0      100002       1                   0           M             0   \n",
       "1      100003       0                   0           F             0   \n",
       "2      100004       0                   1           M             1   \n",
       "3      100006       0                   0           F             0   \n",
       "4      100007       0                   0           M             0   \n",
       "\n",
       "   FLAG_OWN_REALTY  CNT_CHILDREN  AMT_INCOME_TOTAL  AMT_CREDIT  AMT_ANNUITY  \\\n",
       "0                1             0          202500.0    406597.5      24700.5   \n",
       "1                0             0          270000.0   1293502.5      35698.5   \n",
       "2                1             0           67500.0    135000.0       6750.0   \n",
       "3                1             0          135000.0    312682.5      29686.5   \n",
       "4                1             0          121500.0    513000.0      21865.5   \n",
       "\n",
       "   ...  FLAG_DOCUMENT_18 FLAG_DOCUMENT_19 FLAG_DOCUMENT_20 FLAG_DOCUMENT_21  \\\n",
       "0  ...                 0                0                0                0   \n",
       "1  ...                 0                0                0                0   \n",
       "2  ...                 0                0                0                0   \n",
       "3  ...                 0                0                0                0   \n",
       "4  ...                 0                0                0                0   \n",
       "\n",
       "  AMT_REQ_CREDIT_BUREAU_HOUR AMT_REQ_CREDIT_BUREAU_DAY  \\\n",
       "0                        0.0                       0.0   \n",
       "1                        0.0                       0.0   \n",
       "2                        0.0                       0.0   \n",
       "3                        NaN                       NaN   \n",
       "4                        0.0                       0.0   \n",
       "\n",
       "   AMT_REQ_CREDIT_BUREAU_WEEK  AMT_REQ_CREDIT_BUREAU_MON  \\\n",
       "0                         0.0                        0.0   \n",
       "1                         0.0                        0.0   \n",
       "2                         0.0                        0.0   \n",
       "3                         NaN                        NaN   \n",
       "4                         0.0                        0.0   \n",
       "\n",
       "   AMT_REQ_CREDIT_BUREAU_QRT  AMT_REQ_CREDIT_BUREAU_YEAR  \n",
       "0                        0.0                         1.0  \n",
       "1                        0.0                         0.0  \n",
       "2                        0.0                         0.0  \n",
       "3                        NaN                         NaN  \n",
       "4                        0.0                         0.0  \n",
       "\n",
       "[5 rows x 122 columns]"
      ]
     },
     "execution_count": 4,
     "metadata": {},
     "output_type": "execute_result"
    }
   ],
   "source": [
    "# 將只有兩種值的類別型欄位, 做 Label Encoder, 計算相關係數時讓這些欄位可以被包含在內\n",
    "from sklearn.preprocessing import LabelEncoder\n",
    "le = LabelEncoder()\n",
    "\n",
    "# 檢查每一個 column\n",
    "for col in app_train:\n",
    "    if app_train[col].dtype == 'object':\n",
    "        # 如果只有兩種值的類別型欄位\n",
    "        if len(list(app_train[col].unique())) <= 2:\n",
    "            # 就做 Label Encoder, 以加入相關係數檢查\n",
    "            app_train[col] = le.fit_transform(app_train[col])            \n",
    "print(app_train.shape)\n",
    "app_train.head()"
   ]
  },
  {
   "cell_type": "code",
   "execution_count": 5,
   "metadata": {},
   "outputs": [],
   "source": [
    "# 受雇日數為異常值的資料, 另外設一個欄位記錄, 並將異常的日數轉成空值 (np.nan)\n",
    "app_train['DAYS_EMPLOYED_ANOM'] = app_train[\"DAYS_EMPLOYED\"] == 365243\n",
    "app_train['DAYS_EMPLOYED'].replace({365243: np.nan}, inplace = True)\n",
    "\n",
    "# 出生日數 (DAYS_BIRTH) 取絕對值 \n",
    "app_train['DAYS_BIRTH'] = abs(app_train['DAYS_BIRTH'])"
   ]
  },
  {
   "cell_type": "markdown",
   "metadata": {},
   "source": [
    "## 練習時間\n",
    "參考 Day 17 範例程式，離散化你覺得有興趣的欄位，並嘗試找出有趣的訊息"
   ]
  },
  {
   "cell_type": "code",
   "execution_count": 67,
   "metadata": {},
   "outputs": [
    {
     "name": "stdout",
     "output_type": "stream",
     "text": [
      "Income_grp\n",
      "(0.0, 10000.0]               0\n",
      "(10000.0, 20000.0]           0\n",
      "(20000.0, 30000.0]         141\n",
      "(30000.0, 40000.0]         822\n",
      "(40000.0, 50000.0]        3554\n",
      "(50000.0, 60000.0]        4035\n",
      "(60000.0, 70000.0]       12881\n",
      "(70000.0, 80000.0]        5930\n",
      "(80000.0, 90000.0]       30559\n",
      "(90000.0, 100000.0]       5776\n",
      "(100000.0, 110000.0]      5725\n",
      "(110000.0, 120000.0]     33914\n",
      "(120000.0, 130000.0]      8936\n",
      "(130000.0, 140000.0]     38102\n",
      "(140000.0, 150000.0]      4914\n",
      "(150000.0, 160000.0]     27838\n",
      "(160000.0, 170000.0]      4025\n",
      "(170000.0, 180000.0]     28432\n",
      "(180000.0, 190000.0]      2372\n",
      "(190000.0, 200000.0]      1640\n",
      "(200000.0, 210000.0]     17143\n",
      "(210000.0, 220000.0]      2524\n",
      "(220000.0, 230000.0]     21423\n",
      "(230000.0, 240000.0]      1229\n",
      "(240000.0, 250000.0]      5818\n",
      "(250000.0, 260000.0]      1072\n",
      "(260000.0, 270000.0]     11545\n",
      "(270000.0, 280000.0]       405\n",
      "(280000.0, 290000.0]       437\n",
      "(290000.0, 300000.0]      3580\n",
      "                         ...  \n",
      "(700000.0, 710000.0]         6\n",
      "(710000.0, 720000.0]        74\n",
      "(720000.0, 730000.0]         2\n",
      "(730000.0, 740000.0]         1\n",
      "(740000.0, 750000.0]        11\n",
      "(750000.0, 760000.0]         4\n",
      "(760000.0, 770000.0]        54\n",
      "(770000.0, 780000.0]         2\n",
      "(780000.0, 790000.0]         7\n",
      "(790000.0, 800000.0]         1\n",
      "(800000.0, 810000.0]        89\n",
      "(810000.0, 820000.0]         0\n",
      "(820000.0, 830000.0]         2\n",
      "(830000.0, 840000.0]         5\n",
      "(840000.0, 850000.0]         2\n",
      "(850000.0, 860000.0]        17\n",
      "(860000.0, 870000.0]         3\n",
      "(870000.0, 880000.0]         4\n",
      "(880000.0, 890000.0]         2\n",
      "(890000.0, 900000.0]       174\n",
      "(900000.0, 910000.0]         2\n",
      "(910000.0, 920000.0]         0\n",
      "(920000.0, 930000.0]         0\n",
      "(930000.0, 940000.0]         2\n",
      "(940000.0, 950000.0]        13\n",
      "(950000.0, 960000.0]         0\n",
      "(960000.0, 970000.0]         1\n",
      "(970000.0, 980000.0]         0\n",
      "(980000.0, 990000.0]        10\n",
      "(990000.0, 1000000.0]        0\n",
      "Name: TARGET, Length: 100, dtype: int64\n"
     ]
    },
    {
     "data": {
      "text/html": [
       "<div>\n",
       "<style scoped>\n",
       "    .dataframe tbody tr th:only-of-type {\n",
       "        vertical-align: middle;\n",
       "    }\n",
       "\n",
       "    .dataframe tbody tr th {\n",
       "        vertical-align: top;\n",
       "    }\n",
       "\n",
       "    .dataframe thead th {\n",
       "        text-align: right;\n",
       "    }\n",
       "</style>\n",
       "<table border=\"1\" class=\"dataframe\">\n",
       "  <thead>\n",
       "    <tr style=\"text-align: right;\">\n",
       "      <th></th>\n",
       "      <th>Income_grp</th>\n",
       "      <th>TARGET</th>\n",
       "    </tr>\n",
       "  </thead>\n",
       "  <tbody>\n",
       "    <tr>\n",
       "      <th>87</th>\n",
       "      <td>(870000.0, 880000.0]</td>\n",
       "      <td>0.25</td>\n",
       "    </tr>\n",
       "  </tbody>\n",
       "</table>\n",
       "</div>"
      ],
      "text/plain": [
       "              Income_grp  TARGET\n",
       "87  (870000.0, 880000.0]    0.25"
      ]
     },
     "execution_count": 67,
     "metadata": {},
     "output_type": "execute_result"
    }
   ],
   "source": [
    "# 哪個區間的Target Rate最高 ? （以10000作一個區間的話)\n",
    "bins = np.linspace(0, 1000000, 101)\n",
    "app_train['Income_grp'] = pd.cut(app_train['AMT_INCOME_TOTAL'], bins)\n",
    "T_mean_df = app_train.groupby('Income_grp')['TARGET'].mean().reset_index()\n",
    "print(app_train.groupby('Income_grp')['TARGET'].count())\n",
    "T_mean_df[T_mean_df['TARGET']==T_mean_df['TARGET'].max()]"
   ]
  },
  {
   "cell_type": "code",
   "execution_count": 65,
   "metadata": {},
   "outputs": [
    {
     "data": {
      "text/plain": [
       "<matplotlib.axes._subplots.AxesSubplot at 0x120fc2dd8>"
      ]
     },
     "execution_count": 65,
     "metadata": {},
     "output_type": "execute_result"
    },
    {
     "data": {
      "image/png": "[encoded data removed]",
      "text/plain": [
       "<Figure size 432x288 with 1 Axes>"
      ]
     },
     "metadata": {
      "needs_background": "light"
     },
     "output_type": "display_data"
    }
   ],
   "source": [
    "T_mean_df.plot(kind='bar', rot=75)"
   ]
  },
  {
   "cell_type": "code",
   "execution_count": 68,
   "metadata": {},
   "outputs": [
    {
     "name": "stdout",
     "output_type": "stream",
     "text": [
      "Income_grp\n",
      "(0.0, 20000.0]               0\n",
      "(20000.0, 40000.0]         963\n",
      "(40000.0, 60000.0]        7589\n",
      "(60000.0, 80000.0]       18811\n",
      "(80000.0, 100000.0]      36335\n",
      "(100000.0, 120000.0]     39639\n",
      "(120000.0, 140000.0]     47038\n",
      "(140000.0, 160000.0]     32752\n",
      "(160000.0, 180000.0]     32457\n",
      "(180000.0, 200000.0]      4012\n",
      "(200000.0, 220000.0]     19667\n",
      "(220000.0, 240000.0]     22652\n",
      "(240000.0, 260000.0]      6890\n",
      "(260000.0, 280000.0]     11950\n",
      "(280000.0, 300000.0]      4017\n",
      "(300000.0, 320000.0]      6598\n",
      "(320000.0, 340000.0]      2112\n",
      "(340000.0, 360000.0]      4527\n",
      "(360000.0, 380000.0]       243\n",
      "(380000.0, 400000.0]      1196\n",
      "(400000.0, 420000.0]      1786\n",
      "(420000.0, 440000.0]       571\n",
      "(440000.0, 460000.0]      2588\n",
      "(460000.0, 480000.0]       114\n",
      "(480000.0, 500000.0]       302\n",
      "(500000.0, 520000.0]        52\n",
      "(520000.0, 540000.0]       776\n",
      "(540000.0, 560000.0]        15\n",
      "(560000.0, 580000.0]        70\n",
      "(580000.0, 600000.0]       182\n",
      "(600000.0, 620000.0]        35\n",
      "(620000.0, 640000.0]       134\n",
      "(640000.0, 660000.0]        18\n",
      "(660000.0, 680000.0]       667\n",
      "(680000.0, 700000.0]        15\n",
      "(700000.0, 720000.0]        80\n",
      "(720000.0, 740000.0]         3\n",
      "(740000.0, 760000.0]        15\n",
      "(760000.0, 780000.0]        56\n",
      "(780000.0, 800000.0]         8\n",
      "(800000.0, 820000.0]        89\n",
      "(820000.0, 840000.0]         7\n",
      "(840000.0, 860000.0]        19\n",
      "(860000.0, 880000.0]         7\n",
      "(880000.0, 900000.0]       176\n",
      "(900000.0, 920000.0]         2\n",
      "(920000.0, 940000.0]         2\n",
      "(940000.0, 960000.0]        13\n",
      "(960000.0, 980000.0]         1\n",
      "(980000.0, 1000000.0]       10\n",
      "Name: TARGET, dtype: int64\n"
     ]
    },
    {
     "data": {
      "text/html": [
       "<div>\n",
       "<style scoped>\n",
       "    .dataframe tbody tr th:only-of-type {\n",
       "        vertical-align: middle;\n",
       "    }\n",
       "\n",
       "    .dataframe tbody tr th {\n",
       "        vertical-align: top;\n",
       "    }\n",
       "\n",
       "    .dataframe thead th {\n",
       "        text-align: right;\n",
       "    }\n",
       "</style>\n",
       "<table border=\"1\" class=\"dataframe\">\n",
       "  <thead>\n",
       "    <tr style=\"text-align: right;\">\n",
       "      <th></th>\n",
       "      <th>Income_grp</th>\n",
       "      <th>TARGET</th>\n",
       "    </tr>\n",
       "  </thead>\n",
       "  <tbody>\n",
       "    <tr>\n",
       "      <th>32</th>\n",
       "      <td>(640000.0, 660000.0]</td>\n",
       "      <td>0.166667</td>\n",
       "    </tr>\n",
       "  </tbody>\n",
       "</table>\n",
       "</div>"
      ],
      "text/plain": [
       "              Income_grp    TARGET\n",
       "32  (640000.0, 660000.0]  0.166667"
      ]
     },
     "execution_count": 68,
     "metadata": {},
     "output_type": "execute_result"
    }
   ],
   "source": [
    "# 哪個區間的Target Rate最高 ? （以20000作一個區間的話)\n",
    "bins = np.linspace(0, 1000000, 51)\n",
    "app_train['Income_grp'] = pd.cut(app_train['AMT_INCOME_TOTAL'], bins)\n",
    "T_mean_df = app_train.groupby('Income_grp')['TARGET'].mean().reset_index()\n",
    "print(app_train.groupby('Income_grp')['TARGET'].count())\n",
    "T_mean_df[T_mean_df['TARGET']==T_mean_df['TARGET'].max()]"
   ]
  },
  {
   "cell_type": "code",
   "execution_count": 63,
   "metadata": {},
   "outputs": [
    {
     "data": {
      "text/plain": [
       "<matplotlib.axes._subplots.AxesSubplot at 0x11eeaf278>"
      ]
     },
     "execution_count": 63,
     "metadata": {},
     "output_type": "execute_result"
    },
    {
     "data": {
      "image/png": "[encoded data removed]",
      "text/plain": [
       "<Figure size 432x288 with 1 Axes>"
      ]
     },
     "metadata": {
      "needs_background": "light"
     },
     "output_type": "display_data"
    }
   ],
   "source": [
    "T_mean_df.plot(kind='bar', rot=75)"
   ]
  },
  {
   "cell_type": "code",
   "execution_count": null,
   "metadata": {},
   "outputs": [],
   "source": [
    "# 用的分組區間不同，就會影響結果的判讀 : 要設定區間的話要有先決知識\n",
    "# 為什麼87萬不再是最高？因為區間拉大，從圖上可看出，他旁邊的 860000, 880000幾乎沒有值，而稀釋了這個區間\n",
    "# 除此之外，用count檢查後發現是找到的max區間，其count都很少，所以光是改變區間範圍就有很截然不同的結果"
   ]
  },
  {
   "cell_type": "code",
   "execution_count": 75,
   "metadata": {},
   "outputs": [],
   "source": [
    "sub_df = app_train[app_train['AMT_INCOME_TOTAL'] < 500000]"
   ]
  },
  {
   "cell_type": "code",
   "execution_count": 76,
   "metadata": {},
   "outputs": [
    {
     "name": "stdout",
     "output_type": "stream",
     "text": [
      "Income_grp\n",
      "(0.0, 10000.0]              0\n",
      "(10000.0, 20000.0]          0\n",
      "(20000.0, 30000.0]        141\n",
      "(30000.0, 40000.0]        822\n",
      "(40000.0, 50000.0]       3554\n",
      "(50000.0, 60000.0]       4035\n",
      "(60000.0, 70000.0]      12881\n",
      "(70000.0, 80000.0]       5930\n",
      "(80000.0, 90000.0]      30559\n",
      "(90000.0, 100000.0]      5776\n",
      "(100000.0, 110000.0]     5725\n",
      "(110000.0, 120000.0]    33914\n",
      "(120000.0, 130000.0]     8936\n",
      "(130000.0, 140000.0]    38102\n",
      "(140000.0, 150000.0]     4914\n",
      "(150000.0, 160000.0]    27838\n",
      "(160000.0, 170000.0]     4025\n",
      "(170000.0, 180000.0]    28432\n",
      "(180000.0, 190000.0]     2372\n",
      "(190000.0, 200000.0]     1640\n",
      "(200000.0, 210000.0]    17143\n",
      "(210000.0, 220000.0]     2524\n",
      "(220000.0, 230000.0]    21423\n",
      "(230000.0, 240000.0]     1229\n",
      "(240000.0, 250000.0]     5818\n",
      "(250000.0, 260000.0]     1072\n",
      "(260000.0, 270000.0]    11545\n",
      "(270000.0, 280000.0]      405\n",
      "(280000.0, 290000.0]      437\n",
      "(290000.0, 300000.0]     3580\n",
      "(300000.0, 310000.0]      553\n",
      "(310000.0, 320000.0]     6045\n",
      "(320000.0, 330000.0]      240\n",
      "(330000.0, 340000.0]     1872\n",
      "(340000.0, 350000.0]      164\n",
      "(350000.0, 360000.0]     4363\n",
      "(360000.0, 370000.0]      107\n",
      "(370000.0, 380000.0]      136\n",
      "(380000.0, 390000.0]     1058\n",
      "(390000.0, 400000.0]      138\n",
      "(400000.0, 410000.0]     1728\n",
      "(410000.0, 420000.0]       58\n",
      "(420000.0, 430000.0]      494\n",
      "(430000.0, 440000.0]       77\n",
      "(440000.0, 450000.0]     2567\n",
      "(450000.0, 460000.0]       21\n",
      "(460000.0, 470000.0]       24\n",
      "(470000.0, 480000.0]       90\n",
      "(480000.0, 490000.0]       24\n",
      "(490000.0, 500000.0]      278\n",
      "Name: TARGET, dtype: int64\n"
     ]
    },
    {
     "name": "stderr",
     "output_type": "stream",
     "text": [
      "//anaconda3/lib/python3.7/site-packages/ipykernel_launcher.py:2: SettingWithCopyWarning: \n",
      "A value is trying to be set on a copy of a slice from a DataFrame.\n",
      "Try using .loc[row_indexer,col_indexer] = value instead\n",
      "\n",
      "See the caveats in the documentation: http://pandas.pydata.org/pandas-docs/stable/indexing.html#indexing-view-versus-copy\n",
      "  \n"
     ]
    },
    {
     "data": {
      "text/html": [
       "<div>\n",
       "<style scoped>\n",
       "    .dataframe tbody tr th:only-of-type {\n",
       "        vertical-align: middle;\n",
       "    }\n",
       "\n",
       "    .dataframe tbody tr th {\n",
       "        vertical-align: top;\n",
       "    }\n",
       "\n",
       "    .dataframe thead th {\n",
       "        text-align: right;\n",
       "    }\n",
       "</style>\n",
       "<table border=\"1\" class=\"dataframe\">\n",
       "  <thead>\n",
       "    <tr style=\"text-align: right;\">\n",
       "      <th></th>\n",
       "      <th>Income_grp</th>\n",
       "      <th>TARGET</th>\n",
       "    </tr>\n",
       "  </thead>\n",
       "  <tbody>\n",
       "    <tr>\n",
       "      <th>46</th>\n",
       "      <td>(460000.0, 470000.0]</td>\n",
       "      <td>0.166667</td>\n",
       "    </tr>\n",
       "  </tbody>\n",
       "</table>\n",
       "</div>"
      ],
      "text/plain": [
       "              Income_grp    TARGET\n",
       "46  (460000.0, 470000.0]  0.166667"
      ]
     },
     "execution_count": 76,
     "metadata": {},
     "output_type": "execute_result"
    }
   ],
   "source": [
    "bins = np.linspace(0, 500000, 51)\n",
    "sub_df['Income_grp'] = pd.cut(sub_df['AMT_INCOME_TOTAL'], bins)\n",
    "T_mean_df = sub_df.groupby('Income_grp')['TARGET'].mean().reset_index()\n",
    "print(sub_df.groupby('Income_grp')['TARGET'].count())\n",
    "T_mean_df[T_mean_df['TARGET']==T_mean_df['TARGET'].max()]"
   ]
  },
  {
   "cell_type": "code",
   "execution_count": null,
   "metadata": {},
   "outputs": [],
   "source": [
    "#### bins = np.linspace(0, 500000, 26)\n",
    "sub_df['Income_grp'] = pd.cut(sub_df['AMT_INCOME_TOTAL'], bins)\n",
    "T_mean_df = sub_df.groupby('Income_grp')['TARGET'].mean().reset_index()\n",
    "print(sub_df.groupby('Income_grp')['TARGET'].count())\n",
    "T_mean_df[T_mean_df['TARGET']==T_mean_df['TARGET'].max()]"
   ]
  },
  {
   "cell_type": "code",
   "execution_count": null,
   "metadata": {},
   "outputs": [],
   "source": [
    "# 如果把區間改在50萬以下, 不管是用2萬或是1萬的window都有近似的結果 (46-47;46-48)\n",
    "# 因此，在處理之前要很小心離散值對結果造成的影響"
   ]
  }
 ],
 "metadata": {
  "kernelspec": {
   "display_name": "Python 3",
   "language": "python",
   "name": "python3"
  },
  "language_info": {
   "codemirror_mode": {
    "name": "ipython",
    "version": 3
   },
   "file_extension": ".py",
   "mimetype": "text/x-python",
   "name": "python",
   "nbconvert_exporter": "python",
   "pygments_lexer": "ipython3",
   "version": "3.7.3"
  }
 },
 "nbformat": 4,
 "nbformat_minor": 2
}
