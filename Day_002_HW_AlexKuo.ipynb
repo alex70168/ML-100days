{
 "cells": [
  {
   "cell_type": "markdown",
   "metadata": {},
   "source": [
    "## [作業目標]\n",
    "了解機器學習適合應用的領域與範疇。"
   ]
  },
  {
   "cell_type": "markdown",
   "metadata": {},
   "source": [
    "## [作業重點]\n",
    "透過瞭解機器學習的運作方式，找出非常適用機器學習應用的領域及其原因"
   ]
  },
  {
   "cell_type": "markdown",
   "metadata": {},
   "source": [
    "## 作業\n",
    "請找出一個你認為機器學習可以發光發熱的領域並闡述原因? "
   ]
  },
  {
   "cell_type": "markdown",
   "metadata": {},
   "source": [
    "   機器學習可以發光發熱的領域為生物標定分子的探索 (biomarker discovery)，\n",
    "   因為機器學習的精確度有大部分來自於訓練資料集(training dataset)\n",
    "   而生物標定分子的檢測，\n",
    "   常常是利用高通量的質譜儀做偵測，\n",
    "   因此能夠有大量的數據資料集。\n",
    "   \n",
    "   除此之外，\n",
    "   隨著質譜儀的進步與普及，\n",
    "   越來越多檢測單位都已經引入儀器，\n",
    "   因此能夠取得更多的訓練資料，\n",
    "   作生物分子探索。"
   ]
  }
 ],
 "metadata": {
  "kernelspec": {
   "display_name": "Python 3",
   "language": "python",
   "name": "python3"
  },
  "language_info": {
   "codemirror_mode": {
    "name": "ipython",
    "version": 3
   },
   "file_extension": ".py",
   "mimetype": "text/x-python",
   "name": "python",
   "nbconvert_exporter": "python",
   "pygments_lexer": "ipython3",
   "version": "3.7.3"
  }
 },
 "nbformat": 4,
 "nbformat_minor": 2
}
